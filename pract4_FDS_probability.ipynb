{
 "cells": [
  {
   "cell_type": "code",
   "execution_count": 2,
   "id": "22816435",
   "metadata": {},
   "outputs": [
    {
     "name": "stdout",
     "output_type": "stream",
     "text": [
      "probability of getting 3 is: 0.16666666666666666\n"
     ]
    }
   ],
   "source": [
    "#probability of getting 3 when die is rolled\n",
    "ns = 6 #n(S) = {1,2,3,4,5,6} sample space\n",
    "na = 1 #n(A) = {3} Prefered outcome\n",
    "pa = na/ns #P(A)\n",
    "print(\"probability of getting 3 is:\",pa)"
   ]
  },
  {
   "cell_type": "code",
   "execution_count": 3,
   "id": "fcd71bbc",
   "metadata": {},
   "outputs": [
    {
     "name": "stdout",
     "output_type": "stream",
     "text": [
      "Probability of getting atleast getting one head: 0.875\n"
     ]
    }
   ],
   "source": [
    "#probability of atleast getting one head when a coin is tossed thrice\n",
    "ns = 8\n",
    "na = 7\n",
    "pa = na/ns\n",
    "print(\"Probability of getting atleast getting one head:\",pa)"
   ]
  },
  {
   "cell_type": "code",
   "execution_count": 4,
   "id": "82a20226",
   "metadata": {},
   "outputs": [
    {
     "name": "stdout",
     "output_type": "stream",
     "text": [
      "Probability of not blue beans: 0.7\n"
     ]
    }
   ],
   "source": [
    "#A glass jar contains 5 red, 3 blue and 2 green jelly beans.\n",
    "#If a jelly bean is chosen at random from the jar,\n",
    "#what is the probability that it is not blue?\n",
    "\n",
    "ns = 10\n",
    "na = 7\n",
    "pa = na/ns\n",
    "print(\"Probability of not blue jellybeans:\",pa)"
   ]
  },
  {
   "cell_type": "code",
   "execution_count": 5,
   "id": "cf0f09be",
   "metadata": {},
   "outputs": [
    {
     "name": "stdout",
     "output_type": "stream",
     "text": [
      "Probability that they will be alive after 20 years is: 0.35\n"
     ]
    }
   ],
   "source": [
    "#if the probability that person A will be alive in 20 years\n",
    "#is 0.7 and te probability that person B will be alive in \n",
    "#20 years is 0.5, what is the probability that they will \n",
    "#both be alive in 20 years?\n",
    "\n",
    "#These are independent events, so\n",
    "P = 0.7*0.5\n",
    "print(\"Probability that they will be alive after 20 years is:\",P)"
   ]
  },
  {
   "cell_type": "code",
   "execution_count": 6,
   "id": "1d0053bc",
   "metadata": {},
   "outputs": [],
   "source": [
    "def event_probability(n,s):\n",
    "    return n/s"
   ]
  },
  {
   "cell_type": "code",
   "execution_count": 8,
   "id": "08879ba7",
   "metadata": {},
   "outputs": [
    {
     "name": "stdout",
     "output_type": "stream",
     "text": [
      "probability of getting a 4 or 5 on the first toss and a 1,2,or 3 in the second toss: 0.16666666666666666\n"
     ]
    }
   ],
   "source": [
    "#A fair die is tossed twice. Find the probability of getting\n",
    "#a 4 or 5 on the first toss and a 1,2, or 3 in the second toss.\n",
    "pa = event_probability(2,6)  #probability of getting a 4 or 5 on the first toss \n",
    "pb = event_probability(3,6)  #probability of getting 1,2,3,in second toss\n",
    "P = pa*pb\n",
    "print(\"probability of getting a 4 or 5 on the first toss and a 1,2,or 3 in the second toss:\",P)"
   ]
  },
  {
   "cell_type": "code",
   "execution_count": 12,
   "id": "e16288a5",
   "metadata": {},
   "outputs": [
    {
     "name": "stdout",
     "output_type": "stream",
     "text": [
      "the probability of obtaining white, black and green in that order is: 0.041666666666666664\n"
     ]
    }
   ],
   "source": [
    "# A bag contains 5 white marbles, 3 black marbles and 2 green marbles.\n",
    "#In each draw, a marbl is drawn from the bag\n",
    "#and not replaced. In three draws, find the probability of obtaining white,\n",
    "#black and green in that order.\n",
    "\n",
    "ns = 10\n",
    "pw = event_probability(5,10)\n",
    "pb = event_probability(3,9)\n",
    "pg = event_probability(2,8)\n",
    "print(\"the probability of obtaining white, black and green in that order is:\",(pw*pb*pg))"
   ]
  },
  {
   "cell_type": "code",
   "execution_count": 13,
   "id": "5767f9eb",
   "metadata": {},
   "outputs": [
    {
     "name": "stdout",
     "output_type": "stream",
     "text": [
      "0.5\n"
     ]
    }
   ],
   "source": [
    "#sample space\n",
    "cards = 52\n",
    "\n",
    "#calculate the probability of drawing a heart or a club\n",
    "hearts = 13\n",
    "clubs = 13\n",
    "heart_or_club = event_probability(hearts,cards) + event_probability(clubs,cards)\n",
    "print(heart_or_club)"
   ]
  },
  {
   "cell_type": "code",
   "execution_count": 14,
   "id": "efbb4195",
   "metadata": {},
   "outputs": [
    {
     "name": "stdout",
     "output_type": "stream",
     "text": [
      "0.23076923076923078\n"
     ]
    }
   ],
   "source": [
    "#calculate the probability of drawing an ace, king,or a queen\n",
    "\n",
    "aces = 4\n",
    "kings = 4\n",
    "queens = 4\n",
    "ace_king_or_queen = event_probability(aces, cards) + event_probability(kings, cards) + event_probability(queens, cards)\n",
    "print(ace_king_or_queen)"
   ]
  },
  {
   "cell_type": "code",
   "execution_count": 17,
   "id": "9ab18aca",
   "metadata": {},
   "outputs": [
    {
     "name": "stdout",
     "output_type": "stream",
     "text": [
      "0.3\n"
     ]
    }
   ],
   "source": [
    "# calculate the probability of drawing a heart or an ace\n",
    "aces = 4\n",
    "hearts = 13\n",
    "ace_of_heart=1\n",
    "ace_or_heart = event_probability(aces, cards) + event_probability(hearts, cards) - event_probability(ace_of_heart, cards)\n",
    "print(round(ace_or_heart,1))"
   ]
  },
  {
   "cell_type": "code",
   "execution_count": 20,
   "id": "e8b9ab45",
   "metadata": {},
   "outputs": [
    {
     "name": "stdout",
     "output_type": "stream",
     "text": [
      "0.7\n"
     ]
    }
   ],
   "source": [
    "#calculate the probability of drawing red cards or face cards\n",
    "red_cards = 26\n",
    "face_cards =12\n",
    "red_face_cards = 6\n",
    "red_or_face_cards = event_probability(red_cards,cards) + event_probability(face_cards,cards)\n",
    "print(round(red_or_face_cards,1))"
   ]
  },
  {
   "cell_type": "code",
   "execution_count": 21,
   "id": "40adb837",
   "metadata": {},
   "outputs": [
    {
     "name": "stdout",
     "output_type": "stream",
     "text": [
      "probability of getting 5 is: 0.8333333333333334\n"
     ]
    }
   ],
   "source": [
    "#Proabability of not getting 5 when a fair die is rolled\n",
    "ns = 6 #n(S) = {1,2,3,4,5,6} sample space\n",
    "na = 1 #n(A) = {5} Prefered outcome\n",
    "pa = na/ns #P(A)\n",
    "print(\"probability of getting 5 is:\",1-pa)\n"
   ]
  },
  {
   "cell_type": "code",
   "execution_count": 22,
   "id": "2196dbbb",
   "metadata": {},
   "outputs": [
    {
     "name": "stdout",
     "output_type": "stream",
     "text": [
      "0.0784313725490196\n"
     ]
    }
   ],
   "source": [
    "# suppose you draw 2 cards from deck. you win if you get ace given that you draw a jack in first draw\n",
    "\n",
    "cards = 52\n",
    "j=4\n",
    "ace = 4\n",
    "pj = event_probability(j,cards)\n",
    "pa = event_probability(ace,51)\n",
    "pa_given_j=(pj*pa)/pj\n",
    "print(pa_given_j)\n"
   ]
  },
  {
   "cell_type": "markdown",
   "id": "514c93bf",
   "metadata": {},
   "source": [
    "# Conditional Probability"
   ]
  },
  {
   "cell_type": "code",
   "execution_count": 1,
   "id": "2b8e1358",
   "metadata": {},
   "outputs": [
    {
     "data": {
      "text/html": [
       "<div>\n",
       "<style scoped>\n",
       "    .dataframe tbody tr th:only-of-type {\n",
       "        vertical-align: middle;\n",
       "    }\n",
       "\n",
       "    .dataframe tbody tr th {\n",
       "        vertical-align: top;\n",
       "    }\n",
       "\n",
       "    .dataframe thead th {\n",
       "        text-align: right;\n",
       "    }\n",
       "</style>\n",
       "<table border=\"1\" class=\"dataframe\">\n",
       "  <thead>\n",
       "    <tr style=\"text-align: right;\">\n",
       "      <th></th>\n",
       "      <th>school</th>\n",
       "      <th>sex</th>\n",
       "      <th>age</th>\n",
       "      <th>address</th>\n",
       "      <th>famsize</th>\n",
       "      <th>Pstatus</th>\n",
       "      <th>Medu</th>\n",
       "      <th>Fedu</th>\n",
       "      <th>Mjob</th>\n",
       "      <th>Fjob</th>\n",
       "      <th>...</th>\n",
       "      <th>famrel</th>\n",
       "      <th>freetime</th>\n",
       "      <th>goout</th>\n",
       "      <th>Dalc</th>\n",
       "      <th>Walc</th>\n",
       "      <th>health</th>\n",
       "      <th>absences</th>\n",
       "      <th>G1</th>\n",
       "      <th>G2</th>\n",
       "      <th>G3</th>\n",
       "    </tr>\n",
       "  </thead>\n",
       "  <tbody>\n",
       "    <tr>\n",
       "      <th>0</th>\n",
       "      <td>GP</td>\n",
       "      <td>F</td>\n",
       "      <td>18</td>\n",
       "      <td>U</td>\n",
       "      <td>GT3</td>\n",
       "      <td>A</td>\n",
       "      <td>4</td>\n",
       "      <td>4</td>\n",
       "      <td>at_home</td>\n",
       "      <td>teacher</td>\n",
       "      <td>...</td>\n",
       "      <td>4</td>\n",
       "      <td>3</td>\n",
       "      <td>4</td>\n",
       "      <td>1</td>\n",
       "      <td>1</td>\n",
       "      <td>3</td>\n",
       "      <td>6</td>\n",
       "      <td>5</td>\n",
       "      <td>6</td>\n",
       "      <td>6</td>\n",
       "    </tr>\n",
       "    <tr>\n",
       "      <th>1</th>\n",
       "      <td>GP</td>\n",
       "      <td>F</td>\n",
       "      <td>17</td>\n",
       "      <td>U</td>\n",
       "      <td>GT3</td>\n",
       "      <td>T</td>\n",
       "      <td>1</td>\n",
       "      <td>1</td>\n",
       "      <td>at_home</td>\n",
       "      <td>other</td>\n",
       "      <td>...</td>\n",
       "      <td>5</td>\n",
       "      <td>3</td>\n",
       "      <td>3</td>\n",
       "      <td>1</td>\n",
       "      <td>1</td>\n",
       "      <td>3</td>\n",
       "      <td>4</td>\n",
       "      <td>5</td>\n",
       "      <td>5</td>\n",
       "      <td>6</td>\n",
       "    </tr>\n",
       "    <tr>\n",
       "      <th>2</th>\n",
       "      <td>GP</td>\n",
       "      <td>F</td>\n",
       "      <td>15</td>\n",
       "      <td>U</td>\n",
       "      <td>LE3</td>\n",
       "      <td>T</td>\n",
       "      <td>1</td>\n",
       "      <td>1</td>\n",
       "      <td>at_home</td>\n",
       "      <td>other</td>\n",
       "      <td>...</td>\n",
       "      <td>4</td>\n",
       "      <td>3</td>\n",
       "      <td>2</td>\n",
       "      <td>2</td>\n",
       "      <td>3</td>\n",
       "      <td>3</td>\n",
       "      <td>10</td>\n",
       "      <td>7</td>\n",
       "      <td>8</td>\n",
       "      <td>10</td>\n",
       "    </tr>\n",
       "  </tbody>\n",
       "</table>\n",
       "<p>3 rows × 33 columns</p>\n",
       "</div>"
      ],
      "text/plain": [
       "  school sex  age address famsize Pstatus  Medu  Fedu     Mjob     Fjob  ...  \\\n",
       "0     GP   F   18       U     GT3       A     4     4  at_home  teacher  ...   \n",
       "1     GP   F   17       U     GT3       T     1     1  at_home    other  ...   \n",
       "2     GP   F   15       U     LE3       T     1     1  at_home    other  ...   \n",
       "\n",
       "  famrel freetime  goout  Dalc  Walc health absences G1 G2  G3  \n",
       "0      4        3      4     1     1      3        6  5  6   6  \n",
       "1      5        3      3     1     1      3        4  5  5   6  \n",
       "2      4        3      2     2     3      3       10  7  8  10  \n",
       "\n",
       "[3 rows x 33 columns]"
      ]
     },
     "execution_count": 1,
     "metadata": {},
     "output_type": "execute_result"
    }
   ],
   "source": [
    "import pandas as pd\n",
    "import numpy as np\n",
    "df = pd.read_csv(\"student-mat.csv\")\n",
    "df.head(3)"
   ]
  },
  {
   "cell_type": "code",
   "execution_count": 2,
   "id": "dc525743",
   "metadata": {},
   "outputs": [
    {
     "data": {
      "text/plain": [
       "395"
      ]
     },
     "execution_count": 2,
     "metadata": {},
     "output_type": "execute_result"
    }
   ],
   "source": [
    "len(df)"
   ]
  },
  {
   "cell_type": "code",
   "execution_count": 3,
   "id": "1e5751d9",
   "metadata": {},
   "outputs": [],
   "source": [
    "df['grade_A'] = np.where(df['G3']*5 >= 80, 1,0)"
   ]
  },
  {
   "cell_type": "code",
   "execution_count": 4,
   "id": "89f2f15c",
   "metadata": {},
   "outputs": [],
   "source": [
    "df['high_absenses'] = np.where(df['absences'] >= 10,1,0)"
   ]
  },
  {
   "cell_type": "code",
   "execution_count": 5,
   "id": "93febfe8",
   "metadata": {},
   "outputs": [],
   "source": [
    "df['count'] = 1"
   ]
  },
  {
   "cell_type": "code",
   "execution_count": 6,
   "id": "fea1da4a",
   "metadata": {},
   "outputs": [
    {
     "data": {
      "text/html": [
       "<div>\n",
       "<style scoped>\n",
       "    .dataframe tbody tr th:only-of-type {\n",
       "        vertical-align: middle;\n",
       "    }\n",
       "\n",
       "    .dataframe tbody tr th {\n",
       "        vertical-align: top;\n",
       "    }\n",
       "\n",
       "    .dataframe thead th {\n",
       "        text-align: right;\n",
       "    }\n",
       "</style>\n",
       "<table border=\"1\" class=\"dataframe\">\n",
       "  <thead>\n",
       "    <tr style=\"text-align: right;\">\n",
       "      <th></th>\n",
       "      <th>grade_A</th>\n",
       "      <th>high_absenses</th>\n",
       "      <th>count</th>\n",
       "    </tr>\n",
       "  </thead>\n",
       "  <tbody>\n",
       "    <tr>\n",
       "      <th>0</th>\n",
       "      <td>0</td>\n",
       "      <td>0</td>\n",
       "      <td>1</td>\n",
       "    </tr>\n",
       "    <tr>\n",
       "      <th>1</th>\n",
       "      <td>0</td>\n",
       "      <td>0</td>\n",
       "      <td>1</td>\n",
       "    </tr>\n",
       "    <tr>\n",
       "      <th>2</th>\n",
       "      <td>0</td>\n",
       "      <td>1</td>\n",
       "      <td>1</td>\n",
       "    </tr>\n",
       "    <tr>\n",
       "      <th>3</th>\n",
       "      <td>0</td>\n",
       "      <td>0</td>\n",
       "      <td>1</td>\n",
       "    </tr>\n",
       "    <tr>\n",
       "      <th>4</th>\n",
       "      <td>0</td>\n",
       "      <td>0</td>\n",
       "      <td>1</td>\n",
       "    </tr>\n",
       "  </tbody>\n",
       "</table>\n",
       "</div>"
      ],
      "text/plain": [
       "   grade_A  high_absenses  count\n",
       "0        0              0      1\n",
       "1        0              0      1\n",
       "2        0              1      1\n",
       "3        0              0      1\n",
       "4        0              0      1"
      ]
     },
     "execution_count": 6,
     "metadata": {},
     "output_type": "execute_result"
    }
   ],
   "source": [
    "df = df[['grade_A','high_absenses','count']]\n",
    "df.head()"
   ]
  },
  {
   "cell_type": "code",
   "execution_count": 9,
   "id": "f861d2a7",
   "metadata": {},
   "outputs": [],
   "source": [
    "final = pd.pivot_table(\n",
    "        df,\n",
    "        values='count',\n",
    "        index=['grade_A'],\n",
    "        columns=['high_absenses'],\n",
    "        aggfunc=np.size,\n",
    "        fill_value=0\n",
    ")"
   ]
  },
  {
   "cell_type": "code",
   "execution_count": 10,
   "id": "5ac9d9de",
   "metadata": {},
   "outputs": [
    {
     "name": "stdout",
     "output_type": "stream",
     "text": [
      "high_absenses    0   1\n",
      "grade_A               \n",
      "0              277  78\n",
      "1               35   5\n"
     ]
    }
   ],
   "source": [
    "print(final)"
   ]
  },
  {
   "cell_type": "code",
   "execution_count": 13,
   "id": "3b92cd37",
   "metadata": {},
   "outputs": [
    {
     "data": {
      "text/plain": [
       "0.10126582278481013"
      ]
     },
     "execution_count": 13,
     "metadata": {},
     "output_type": "execute_result"
    }
   ],
   "source": [
    "total=final.iloc[0,0]+final.iloc[0,1]+final.iloc[1,0]+final.iloc[1,1]\n",
    "p_a=(final.iloc[1,0]+final.iloc[1,1])/total\n",
    "p_a"
   ]
  },
  {
   "cell_type": "code",
   "execution_count": 16,
   "id": "086bc74c",
   "metadata": {},
   "outputs": [
    {
     "data": {
      "text/plain": [
       "0.21012658227848102"
      ]
     },
     "execution_count": 16,
     "metadata": {},
     "output_type": "execute_result"
    }
   ],
   "source": [
    "p_b=(final.iloc[0,1]+final.iloc[1,1])/total\n",
    "p_b"
   ]
  },
  {
   "cell_type": "code",
   "execution_count": 19,
   "id": "499172b2",
   "metadata": {},
   "outputs": [
    {
     "data": {
      "text/plain": [
       "0.012658227848101266"
      ]
     },
     "execution_count": 19,
     "metadata": {},
     "output_type": "execute_result"
    }
   ],
   "source": [
    "p_c=(final.iloc[1,1])/total\n",
    "p_c"
   ]
  },
  {
   "cell_type": "code",
   "execution_count": 20,
   "id": "91c330fd",
   "metadata": {},
   "outputs": [
    {
     "data": {
      "text/plain": [
       "0.060240963855421686"
      ]
     },
     "execution_count": 20,
     "metadata": {},
     "output_type": "execute_result"
    }
   ],
   "source": [
    "p_d=p_c/p_b\n",
    "p_d"
   ]
  },
  {
   "cell_type": "code",
   "execution_count": null,
   "id": "1d2367d9",
   "metadata": {},
   "outputs": [],
   "source": []
  }
 ],
 "metadata": {
  "kernelspec": {
   "display_name": "Python 3",
   "language": "python",
   "name": "python3"
  },
  "language_info": {
   "codemirror_mode": {
    "name": "ipython",
    "version": 3
   },
   "file_extension": ".py",
   "mimetype": "text/x-python",
   "name": "python",
   "nbconvert_exporter": "python",
   "pygments_lexer": "ipython3",
   "version": "3.8.8"
  }
 },
 "nbformat": 4,
 "nbformat_minor": 5
}
